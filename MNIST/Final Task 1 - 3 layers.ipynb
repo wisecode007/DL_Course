{
 "cells": [
  {
   "cell_type": "code",
   "execution_count": 15,
   "metadata": {},
   "outputs": [
    {
     "name": "stdout",
     "output_type": "stream",
     "text": [
      "Extracting MNIST_data/train-images-idx3-ubyte.gz\n",
      "Extracting MNIST_data/train-labels-idx1-ubyte.gz\n",
      "Extracting MNIST_data/t10k-images-idx3-ubyte.gz\n",
      "Extracting MNIST_data/t10k-labels-idx1-ubyte.gz\n",
      "Validation accuracy for epoch 1 is: 0.885200023651123\n",
      "Train accuracy for epoch 1 is: 0.8912363648414612\n",
      "Validation accuracy for epoch 2 is: 0.9358000159263611\n",
      "Train accuracy for epoch 2 is: 0.9393636584281921\n",
      "Validation accuracy for epoch 3 is: 0.9423999786376953\n",
      "Train accuracy for epoch 3 is: 0.9499454498291016\n",
      "Validation accuracy for epoch 4 is: 0.944599986076355\n",
      "Train accuracy for epoch 4 is: 0.9559817910194397\n",
      "Validation accuracy for epoch 5 is: 0.9470000267028809\n",
      "Train accuracy for epoch 5 is: 0.9620727300643921\n",
      "Validation accuracy for epoch 6 is: 0.9545999765396118\n",
      "Train accuracy for epoch 6 is: 0.9660181999206543\n",
      "Validation accuracy for epoch 7 is: 0.9545999765396118\n",
      "Train accuracy for epoch 7 is: 0.9727272987365723\n",
      "Validation accuracy for epoch 8 is: 0.9607999920845032\n",
      "Train accuracy for epoch 8 is: 0.9696000218391418\n",
      "Validation accuracy for epoch 9 is: 0.9635999798774719\n",
      "Train accuracy for epoch 9 is: 0.9763273000717163\n",
      "Validation accuracy for epoch 10 is: 0.9616000056266785\n",
      "Train accuracy for epoch 10 is: 0.9759091138839722\n",
      "Validation accuracy for epoch 11 is: 0.9595999717712402\n",
      "Train accuracy for epoch 11 is: 0.9771090745925903\n",
      "Validation accuracy for epoch 12 is: 0.9571999907493591\n",
      "Train accuracy for epoch 12 is: 0.9784181714057922\n"
     ]
    },
    {
     "data": {
      "image/png": "[encoded data removed]",
      "text/plain": [
       "<matplotlib.figure.Figure at 0x12c01a4d198>"
      ]
     },
     "metadata": {},
     "output_type": "display_data"
    },
    {
     "name": "stdout",
     "output_type": "stream",
     "text": [
      "Test resualt:\n",
      "0.9628\n"
     ]
    }
   ],
   "source": [
    "import tensorflow as tf\n",
    "import tensorflow.examples.tutorials.mnist.input_data as input_data\n",
    "import numpy as np\n",
    "import matplotlib.pyplot as plt\n",
    "\n",
    "mnist = input_data.read_data_sets('MNIST_data/', one_hot=True)\n",
    "n_input = 784\n",
    "n_output = 10\n",
    "net_input = tf.placeholder(tf.float32, [None, n_input])\n",
    "y_true = tf.placeholder(tf.float32, [None, 10])\n",
    "\n",
    "# experiment with different architectures (amount of layers, size of layers, activation function, etc.)\n",
    "# Layer 1\n",
    "hidden_size = 256\n",
    "W1 = tf.Variable(tf.truncated_normal([n_input, hidden_size]))\n",
    "b1 = tf.Variable(tf.truncated_normal([hidden_size]))\n",
    "W2 = tf.Variable(tf.truncated_normal([hidden_size, n_output]))\n",
    "b2 = tf.Variable(tf.truncated_normal([n_output]))\n",
    "net_output = tf.nn.relu(tf.matmul(net_input, W1) + b1)  # try sigmoid, tanh, etc.\n",
    "net_output = tf.nn.dropout(net_output, 0.9)  # try different dropout (this is the % to keep units)\n",
    "net_output = (tf.matmul(net_output, W2) + b2)\n",
    "\n",
    "\n",
    "#Layer 2\n",
    "hiddenSize2 = 500\n",
    "W3 = tf.Variable(tf.truncated_normal([n_input, hiddenSize2]))\n",
    "b1 = tf.Variable(tf.truncated_normal([hiddenSize2]))\n",
    "W4 = tf.Variable(tf.truncated_normal([hiddenSize2, n_output]))\n",
    "b2 = tf.Variable(tf.truncated_normal([n_output]))\n",
    "net_output = tf.nn.sigmoid(tf.matmul(net_input, W3) + b1)  # try sigmoid, tanh, etc.\n",
    "net_output = tf.nn.dropout(net_output, 0.855)  # try different dropout (this is the % to keep units)\n",
    "net_output = (tf.matmul(net_output, W4) + b2)\n",
    "\n",
    "#Layer 3\n",
    "hiddenSize3 = 600\n",
    "W5 = tf.Variable(tf.truncated_normal([n_input, hiddenSize3]))\n",
    "b3 = tf.Variable(tf.truncated_normal([hiddenSize3]))\n",
    "W6 = tf.Variable(tf.truncated_normal([hiddenSize3, n_output]))\n",
    "b4 = tf.Variable(tf.truncated_normal([n_output]))\n",
    "net_output = tf.nn.relu6(tf.matmul(net_input, W5) + b3)  # try sigmoid, tanh, etc.\n",
    "net_output = tf.nn.dropout(net_output, 0.725)  # try different dropout (this is the % to keep units)\n",
    "net_output = (tf.matmul(net_output, W6) + b4)\n",
    "\n",
    "\n",
    "correct_prediction = tf.equal(tf.argmax(net_output, 1), tf.argmax(y_true, 1))\n",
    "accuracy = tf.reduce_mean(tf.cast(correct_prediction, \"float\"))\n",
    "cost = tf.reduce_sum(tf.nn.softmax_cross_entropy_with_logits(logits=net_output, labels=y_true))\n",
    "\n",
    "eta = 0.0125 # try different values here [0.0001,...,0.1]\n",
    "\n",
    "# you can experiment with different optimizers\n",
    "#optimizer = tf.train.AdamOptimizer(eta).minimize(cost)\n",
    "#optimizer = tf.train.GradientDescentOptimizer(eta).minimize(cost)\n",
    "optimizer = tf.train.RMSPropOptimizer(eta).minimize(cost)\n",
    "\n",
    "sess = tf.Session()\n",
    "sess.run(tf.global_variables_initializer())\n",
    "l_loss = list()\n",
    "l_loss2 = list()\n",
    "\n",
    "batch_size = 350  # see how batch size influences the learning process\n",
    "n_epochs = 12  # see how many epochs are needed to learn, when over-fitting occurs\n",
    "for epoch_i in range(n_epochs):\n",
    "    for batch_i in range(0, mnist.train.num_examples, batch_size):\n",
    "        batch_xs, batch_ys = mnist.train.next_batch(batch_size)\n",
    "        sess.run(optimizer, feed_dict={\n",
    "            net_input: batch_xs,\n",
    "            y_true: batch_ys\n",
    "        })\n",
    "    loss = sess.run(accuracy, feed_dict={\n",
    "                       net_input: mnist.validation.images,\n",
    "                       y_true: mnist.validation.labels })\n",
    "    loss2 = sess.run(accuracy, feed_dict={\n",
    "                       net_input: mnist.train.images,\n",
    "                       y_true: mnist.train.labels })\n",
    "    print('Validation accuracy for epoch {} is: {}'.format(epoch_i + 1, loss))\n",
    "    print('Train accuracy for epoch {} is: {}'.format(epoch_i + 1, loss2))\n",
    "    l_loss.append(loss)\n",
    "    l_loss2.append(loss2)\n",
    "    \n",
    "\n",
    "plt.title('NN Acuracy')\n",
    "plt.ylabel('Accuracy')\n",
    "plt.xlabel('Epochs')\n",
    "plt.plot(l_loss, color='m')  #validation loss\n",
    "plt.plot(l_loss2, color='g') #train loss\n",
    "plt.show()\n",
    "\n",
    "print ('Test resualt:')\n",
    "print(sess.run(accuracy, feed_dict={net_input: mnist.test.images, y_true: mnist.test.labels}))\n",
    "    "
   ]
  },
  {
   "cell_type": "code",
   "execution_count": null,
   "metadata": {
    "collapsed": true
   },
   "outputs": [],
   "source": []
  }
 ],
 "metadata": {
  "kernelspec": {
   "display_name": "Python 3",
   "language": "python",
   "name": "python3"
  },
  "language_info": {
   "codemirror_mode": {
    "name": "ipython",
    "version": 3
   },
   "file_extension": ".py",
   "mimetype": "text/x-python",
   "name": "python",
   "nbconvert_exporter": "python",
   "pygments_lexer": "ipython3",
   "version": "3.6.3"
  }
 },
 "nbformat": 4,
 "nbformat_minor": 2
}
